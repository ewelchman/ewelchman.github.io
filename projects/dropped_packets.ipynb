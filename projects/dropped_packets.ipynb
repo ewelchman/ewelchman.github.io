{
 "cells": [
  {
   "cell_type": "markdown",
   "metadata": {},
   "source": [
    "# Investigating dropped data packets\n",
    "My team is building a centralized log collection service in AWS and we've found that some data packets are being dropped between our on-site logs server and the other end of a VPN tunnel. I'm hoping to use logs from both the on-site log server and a proxy server on the other end of the tunnel in order to learn more about why packets are being lost."
   ]
  },
  {
   "cell_type": "code",
   "execution_count": 124,
   "metadata": {
    "collapsed": true
   },
   "outputs": [],
   "source": [
    "# Libraries\n",
    "import pandas as pd\n",
    "import numpy as np\n",
    "import hashlib\n",
    "import matplotlib.pyplot as plt\n",
    "import seaborn as sns"
   ]
  },
  {
   "cell_type": "markdown",
   "metadata": {},
   "source": [
    "## Inspecting the data"
   ]
  },
  {
   "cell_type": "code",
   "execution_count": 125,
   "metadata": {
    "collapsed": true
   },
   "outputs": [],
   "source": [
    "# Read .csv files\n",
    "delft_df = pd.read_csv('/home/welced12/Downloads/delft-syslog.csv')\n",
    "proxy_df = pd.read_csv('/home/welced12/Downloads/proxy-syslog.csv')"
   ]
  },
  {
   "cell_type": "code",
   "execution_count": 126,
   "metadata": {},
   "outputs": [
    {
     "name": "stdout",
     "output_type": "stream",
     "text": [
      "<class 'pandas.core.frame.DataFrame'>\n",
      "RangeIndex: 705209 entries, 0 to 705208\n",
      "Data columns (total 7 columns):\n",
      "No.            705209 non-null int64\n",
      "Time           705209 non-null float64\n",
      "Source         705209 non-null object\n",
      "Destination    705209 non-null object\n",
      "Protocol       705209 non-null object\n",
      "Length         705209 non-null int64\n",
      "Info           705209 non-null object\n",
      "dtypes: float64(1), int64(2), object(4)\n",
      "memory usage: 37.7+ MB\n"
     ]
    }
   ],
   "source": [
    "delft_df.info()"
   ]
  },
  {
   "cell_type": "code",
   "execution_count": 127,
   "metadata": {},
   "outputs": [
    {
     "name": "stdout",
     "output_type": "stream",
     "text": [
      "<class 'pandas.core.frame.DataFrame'>\n",
      "RangeIndex: 388621 entries, 0 to 388620\n",
      "Data columns (total 7 columns):\n",
      "No.            388621 non-null int64\n",
      "Time           388621 non-null float64\n",
      "Source         388621 non-null object\n",
      "Destination    388621 non-null object\n",
      "Protocol       388621 non-null object\n",
      "Length         388621 non-null int64\n",
      "Info           388621 non-null object\n",
      "dtypes: float64(1), int64(2), object(4)\n",
      "memory usage: 20.8+ MB\n"
     ]
    }
   ],
   "source": [
    "proxy_df.info()"
   ]
  },
  {
   "cell_type": "markdown",
   "metadata": {},
   "source": [
    "These dataframes contain a few pieces of information about the data packets being sent from delft to the proxy server, including a timestamp, a source ip address, destination ip address, protocol label, data packet length (size), and a field of additional 'Info'. Of particular interest in this case are the Time and Info fields."
   ]
  },
  {
   "cell_type": "code",
   "execution_count": 128,
   "metadata": {},
   "outputs": [
    {
     "data": {
      "text/html": [
       "<div>\n",
       "<style scoped>\n",
       "    .dataframe tbody tr th:only-of-type {\n",
       "        vertical-align: middle;\n",
       "    }\n",
       "\n",
       "    .dataframe tbody tr th {\n",
       "        vertical-align: top;\n",
       "    }\n",
       "\n",
       "    .dataframe thead th {\n",
       "        text-align: right;\n",
       "    }\n",
       "</style>\n",
       "<table border=\"1\" class=\"dataframe\">\n",
       "  <thead>\n",
       "    <tr style=\"text-align: right;\">\n",
       "      <th></th>\n",
       "      <th>No.</th>\n",
       "      <th>Time</th>\n",
       "      <th>Source</th>\n",
       "      <th>Destination</th>\n",
       "      <th>Protocol</th>\n",
       "      <th>Length</th>\n",
       "      <th>Info</th>\n",
       "    </tr>\n",
       "  </thead>\n",
       "  <tbody>\n",
       "    <tr>\n",
       "      <th>0</th>\n",
       "      <td>1</td>\n",
       "      <td>0.0</td>\n",
       "      <td>10.1.80.32</td>\n",
       "      <td>10.4.15.15</td>\n",
       "      <td>Syslog</td>\n",
       "      <td>244</td>\n",
       "      <td>LOCAL0.INFO: Jun 28 15:36:00 10.1.80.254 %ASA-...</td>\n",
       "    </tr>\n",
       "    <tr>\n",
       "      <th>1</th>\n",
       "      <td>2</td>\n",
       "      <td>0.0</td>\n",
       "      <td>10.1.80.32</td>\n",
       "      <td>10.4.15.15</td>\n",
       "      <td>Syslog</td>\n",
       "      <td>227</td>\n",
       "      <td>LOCAL0.INFO: Jun 28 15:36:00 10.1.80.254 %ASA-...</td>\n",
       "    </tr>\n",
       "    <tr>\n",
       "      <th>2</th>\n",
       "      <td>3</td>\n",
       "      <td>0.0</td>\n",
       "      <td>10.1.80.32</td>\n",
       "      <td>10.4.15.15</td>\n",
       "      <td>Syslog</td>\n",
       "      <td>234</td>\n",
       "      <td>LOCAL0.INFO: Jun 28 15:35:59 10.0.0.1 %ASA-6-3...</td>\n",
       "    </tr>\n",
       "    <tr>\n",
       "      <th>3</th>\n",
       "      <td>4</td>\n",
       "      <td>0.0</td>\n",
       "      <td>10.1.80.32</td>\n",
       "      <td>10.4.15.15</td>\n",
       "      <td>Syslog</td>\n",
       "      <td>233</td>\n",
       "      <td>LOCAL0.INFO: Jun 28 15:36:00 10.1.80.254 %ASA-...</td>\n",
       "    </tr>\n",
       "    <tr>\n",
       "      <th>4</th>\n",
       "      <td>5</td>\n",
       "      <td>0.0</td>\n",
       "      <td>10.1.80.32</td>\n",
       "      <td>10.4.15.15</td>\n",
       "      <td>Syslog</td>\n",
       "      <td>233</td>\n",
       "      <td>LOCAL0.INFO: Jun 28 15:35:59 10.0.0.3 %ASA-6-3...</td>\n",
       "    </tr>\n",
       "  </tbody>\n",
       "</table>\n",
       "</div>"
      ],
      "text/plain": [
       "   No.  Time      Source Destination Protocol  Length  \\\n",
       "0    1   0.0  10.1.80.32  10.4.15.15   Syslog     244   \n",
       "1    2   0.0  10.1.80.32  10.4.15.15   Syslog     227   \n",
       "2    3   0.0  10.1.80.32  10.4.15.15   Syslog     234   \n",
       "3    4   0.0  10.1.80.32  10.4.15.15   Syslog     233   \n",
       "4    5   0.0  10.1.80.32  10.4.15.15   Syslog     233   \n",
       "\n",
       "                                                Info  \n",
       "0  LOCAL0.INFO: Jun 28 15:36:00 10.1.80.254 %ASA-...  \n",
       "1  LOCAL0.INFO: Jun 28 15:36:00 10.1.80.254 %ASA-...  \n",
       "2  LOCAL0.INFO: Jun 28 15:35:59 10.0.0.1 %ASA-6-3...  \n",
       "3  LOCAL0.INFO: Jun 28 15:36:00 10.1.80.254 %ASA-...  \n",
       "4  LOCAL0.INFO: Jun 28 15:35:59 10.0.0.3 %ASA-6-3...  "
      ]
     },
     "execution_count": 128,
     "metadata": {},
     "output_type": "execute_result"
    }
   ],
   "source": [
    "delft_df.head(5)"
   ]
  },
  {
   "cell_type": "code",
   "execution_count": 129,
   "metadata": {},
   "outputs": [
    {
     "data": {
      "text/html": [
       "<div>\n",
       "<style scoped>\n",
       "    .dataframe tbody tr th:only-of-type {\n",
       "        vertical-align: middle;\n",
       "    }\n",
       "\n",
       "    .dataframe tbody tr th {\n",
       "        vertical-align: top;\n",
       "    }\n",
       "\n",
       "    .dataframe thead th {\n",
       "        text-align: right;\n",
       "    }\n",
       "</style>\n",
       "<table border=\"1\" class=\"dataframe\">\n",
       "  <thead>\n",
       "    <tr style=\"text-align: right;\">\n",
       "      <th></th>\n",
       "      <th>No.</th>\n",
       "      <th>Time</th>\n",
       "      <th>Source</th>\n",
       "      <th>Destination</th>\n",
       "      <th>Protocol</th>\n",
       "      <th>Length</th>\n",
       "      <th>Info</th>\n",
       "    </tr>\n",
       "  </thead>\n",
       "  <tbody>\n",
       "    <tr>\n",
       "      <th>1495</th>\n",
       "      <td>2880</td>\n",
       "      <td>0.041</td>\n",
       "      <td>10.1.80.32</td>\n",
       "      <td>10.4.15.15</td>\n",
       "      <td>Syslog</td>\n",
       "      <td>229</td>\n",
       "      <td>LOCAL0.INFO: Jun 28 15:36:00 10.0.0.1 %ASA-6-3...</td>\n",
       "    </tr>\n",
       "    <tr>\n",
       "      <th>1496</th>\n",
       "      <td>2881</td>\n",
       "      <td>0.041</td>\n",
       "      <td>10.1.80.32</td>\n",
       "      <td>10.4.15.15</td>\n",
       "      <td>Syslog</td>\n",
       "      <td>233</td>\n",
       "      <td>LOCAL0.INFO: Jun 28 15:36:00 10.0.0.1 %ASA-6-3...</td>\n",
       "    </tr>\n",
       "    <tr>\n",
       "      <th>1497</th>\n",
       "      <td>2882</td>\n",
       "      <td>0.041</td>\n",
       "      <td>10.1.80.32</td>\n",
       "      <td>10.4.15.15</td>\n",
       "      <td>Syslog</td>\n",
       "      <td>245</td>\n",
       "      <td>LOCAL0.INFO: Jun 28 15:36:00 10.0.0.1 %ASA-6-3...</td>\n",
       "    </tr>\n",
       "    <tr>\n",
       "      <th>1498</th>\n",
       "      <td>2883</td>\n",
       "      <td>0.041</td>\n",
       "      <td>10.1.80.32</td>\n",
       "      <td>10.4.15.15</td>\n",
       "      <td>Syslog</td>\n",
       "      <td>220</td>\n",
       "      <td>LOCAL0.INFO: Jun 28 15:36:00 10.0.0.1 %ASA-6-3...</td>\n",
       "    </tr>\n",
       "    <tr>\n",
       "      <th>1499</th>\n",
       "      <td>2884</td>\n",
       "      <td>0.041</td>\n",
       "      <td>10.1.80.32</td>\n",
       "      <td>10.4.15.15</td>\n",
       "      <td>Syslog</td>\n",
       "      <td>213</td>\n",
       "      <td>LOCAL0.INFO: Jun 28 15:36:00 10.0.0.1 %ASA-6-3...</td>\n",
       "    </tr>\n",
       "  </tbody>\n",
       "</table>\n",
       "</div>"
      ],
      "text/plain": [
       "       No.   Time      Source Destination Protocol  Length  \\\n",
       "1495  2880  0.041  10.1.80.32  10.4.15.15   Syslog     229   \n",
       "1496  2881  0.041  10.1.80.32  10.4.15.15   Syslog     233   \n",
       "1497  2882  0.041  10.1.80.32  10.4.15.15   Syslog     245   \n",
       "1498  2883  0.041  10.1.80.32  10.4.15.15   Syslog     220   \n",
       "1499  2884  0.041  10.1.80.32  10.4.15.15   Syslog     213   \n",
       "\n",
       "                                                   Info  \n",
       "1495  LOCAL0.INFO: Jun 28 15:36:00 10.0.0.1 %ASA-6-3...  \n",
       "1496  LOCAL0.INFO: Jun 28 15:36:00 10.0.0.1 %ASA-6-3...  \n",
       "1497  LOCAL0.INFO: Jun 28 15:36:00 10.0.0.1 %ASA-6-3...  \n",
       "1498  LOCAL0.INFO: Jun 28 15:36:00 10.0.0.1 %ASA-6-3...  \n",
       "1499  LOCAL0.INFO: Jun 28 15:36:00 10.0.0.1 %ASA-6-3...  "
      ]
     },
     "execution_count": 129,
     "metadata": {},
     "output_type": "execute_result"
    }
   ],
   "source": [
    "proxy_df.head(1500).tail(5)"
   ]
  },
  {
   "cell_type": "markdown",
   "metadata": {},
   "source": [
    "The Time field tells us how many seconds after some starting time t the packet was sent."
   ]
  },
  {
   "cell_type": "code",
   "execution_count": 130,
   "metadata": {},
   "outputs": [
    {
     "data": {
      "text/plain": [
       "'LOCAL0.INFO: Jun 28 15:36:00 10.1.80.254 %ASA-6-302015: Built inbound UDP connection 3532848521 for sf-fw-outside-30:10.216.179.187/63360 (10.216.179.187/63360) to sf-campus-116:10.1.16.111/53 (10.1.16.111/53)\\\\\\\\n'"
      ]
     },
     "execution_count": 130,
     "metadata": {},
     "output_type": "execute_result"
    }
   ],
   "source": [
    "proxy_df.loc[0,'Info']"
   ]
  },
  {
   "cell_type": "code",
   "execution_count": 131,
   "metadata": {},
   "outputs": [
    {
     "data": {
      "text/plain": [
       "'LOCAL0.INFO: Jun 28 15:36:00 10.1.80.254 %ASA-6-302015: Built inbound UDP connection 3532848521 for sf-fw-outside-30:10.216.179.187/63360 (10.216.179.187/63360) to sf-campus-116:10.1.16.111/53 (10.1.16.111/53)\\\\\\\\n'"
      ]
     },
     "execution_count": 131,
     "metadata": {},
     "output_type": "execute_result"
    }
   ],
   "source": [
    "delft_df.loc[0,'Info']"
   ]
  },
  {
   "cell_type": "markdown",
   "metadata": {},
   "source": [
    "The Info field conatins some additional information that's unique to this data packet. If a data packet is sent from delft, it should be received with the same 'Info' entry, so each log entry from the proxy server should have a matching pair in the logs from delft.\n",
    "\n",
    "In this case, it will be useful to determine which of the packets sent from delft was received by the proxy.\n",
    "\n",
    "## Working with the data\n",
    "I want to add a column to the entries from delft saying whether or not they were received by the proxy."
   ]
  },
  {
   "cell_type": "code",
   "execution_count": 132,
   "metadata": {
    "collapsed": true
   },
   "outputs": [],
   "source": [
    "# Convert the Info field into something more easily comparable at scale\n",
    "delft_df['uid'] = [ \n",
    "    hashlib.sha1(x.encode('utf-8')).hexdigest() \n",
    "    for x in delft_df.Info.values \n",
    "]\n",
    "\n",
    "proxy_df['uid'] = [ \n",
    "    hashlib.sha1(x.encode('utf-8')).hexdigest() \n",
    "    for x in proxy_df.Info.values \n",
    "]"
   ]
  },
  {
   "cell_type": "markdown",
   "metadata": {},
   "source": [
    "For each of the entries from delft, determine whether that entry appears on the proxy server."
   ]
  },
  {
   "cell_type": "code",
   "execution_count": 133,
   "metadata": {
    "collapsed": true
   },
   "outputs": [],
   "source": [
    "# Start by working with a subset\n",
    "recvd_packets = [\n",
    "    1 if txt in proxy_df.uid.values[:50000]\n",
    "    else 0\n",
    "    for txt in delft_df.uid.values[:50000]\n",
    "]"
   ]
  },
  {
   "cell_type": "code",
   "execution_count": 134,
   "metadata": {},
   "outputs": [
    {
     "data": {
      "text/plain": [
       "27016"
      ]
     },
     "execution_count": 134,
     "metadata": {},
     "output_type": "execute_result"
    }
   ],
   "source": [
    "# sanity check\n",
    "sum(recvd_packets)"
   ]
  },
  {
   "cell_type": "markdown",
   "metadata": {},
   "source": [
    "Looks like we see evidence of dropped packets in this subset. The next thing I want to do is try and bin the packets by timestamp. I can then use each millisecond as a data point and see how many packets were sent during that millisecond and how many of those were dropped."
   ]
  },
  {
   "cell_type": "code",
   "execution_count": 135,
   "metadata": {
    "scrolled": true
   },
   "outputs": [
    {
     "name": "stderr",
     "output_type": "stream",
     "text": [
      "/home/welced12/anaconda3/lib/python3.6/site-packages/ipykernel_launcher.py:3: SettingWithCopyWarning: \n",
      "A value is trying to be set on a copy of a slice from a DataFrame.\n",
      "Try using .loc[row_indexer,col_indexer] = value instead\n",
      "\n",
      "See the caveats in the documentation: http://pandas.pydata.org/pandas-docs/stable/indexing.html#indexing-view-versus-copy\n",
      "  This is separate from the ipykernel package so we can avoid doing imports until\n"
     ]
    },
    {
     "data": {
      "text/html": [
       "<div>\n",
       "<style scoped>\n",
       "    .dataframe tbody tr th:only-of-type {\n",
       "        vertical-align: middle;\n",
       "    }\n",
       "\n",
       "    .dataframe tbody tr th {\n",
       "        vertical-align: top;\n",
       "    }\n",
       "\n",
       "    .dataframe thead th {\n",
       "        text-align: right;\n",
       "    }\n",
       "</style>\n",
       "<table border=\"1\" class=\"dataframe\">\n",
       "  <thead>\n",
       "    <tr style=\"text-align: right;\">\n",
       "      <th></th>\n",
       "      <th>No.</th>\n",
       "      <th>Time</th>\n",
       "      <th>Source</th>\n",
       "      <th>Destination</th>\n",
       "      <th>Protocol</th>\n",
       "      <th>Length</th>\n",
       "      <th>Info</th>\n",
       "      <th>uid</th>\n",
       "      <th>received</th>\n",
       "    </tr>\n",
       "  </thead>\n",
       "  <tbody>\n",
       "    <tr>\n",
       "      <th>0</th>\n",
       "      <td>1</td>\n",
       "      <td>0.0</td>\n",
       "      <td>10.1.80.32</td>\n",
       "      <td>10.4.15.15</td>\n",
       "      <td>Syslog</td>\n",
       "      <td>244</td>\n",
       "      <td>LOCAL0.INFO: Jun 28 15:36:00 10.1.80.254 %ASA-...</td>\n",
       "      <td>323d24d285d97a330d95d984a35f04073dec3682</td>\n",
       "      <td>1</td>\n",
       "    </tr>\n",
       "    <tr>\n",
       "      <th>1</th>\n",
       "      <td>2</td>\n",
       "      <td>0.0</td>\n",
       "      <td>10.1.80.32</td>\n",
       "      <td>10.4.15.15</td>\n",
       "      <td>Syslog</td>\n",
       "      <td>227</td>\n",
       "      <td>LOCAL0.INFO: Jun 28 15:36:00 10.1.80.254 %ASA-...</td>\n",
       "      <td>a98fb036b75708dce0174b5849595af584456d4e</td>\n",
       "      <td>1</td>\n",
       "    </tr>\n",
       "    <tr>\n",
       "      <th>2</th>\n",
       "      <td>3</td>\n",
       "      <td>0.0</td>\n",
       "      <td>10.1.80.32</td>\n",
       "      <td>10.4.15.15</td>\n",
       "      <td>Syslog</td>\n",
       "      <td>234</td>\n",
       "      <td>LOCAL0.INFO: Jun 28 15:35:59 10.0.0.1 %ASA-6-3...</td>\n",
       "      <td>347376e945af7a70e2e14913de0ce47ca24ae736</td>\n",
       "      <td>1</td>\n",
       "    </tr>\n",
       "    <tr>\n",
       "      <th>3</th>\n",
       "      <td>4</td>\n",
       "      <td>0.0</td>\n",
       "      <td>10.1.80.32</td>\n",
       "      <td>10.4.15.15</td>\n",
       "      <td>Syslog</td>\n",
       "      <td>233</td>\n",
       "      <td>LOCAL0.INFO: Jun 28 15:36:00 10.1.80.254 %ASA-...</td>\n",
       "      <td>09bae3b8fb7847fc3e72bd9a3efb287764200c10</td>\n",
       "      <td>1</td>\n",
       "    </tr>\n",
       "    <tr>\n",
       "      <th>4</th>\n",
       "      <td>5</td>\n",
       "      <td>0.0</td>\n",
       "      <td>10.1.80.32</td>\n",
       "      <td>10.4.15.15</td>\n",
       "      <td>Syslog</td>\n",
       "      <td>233</td>\n",
       "      <td>LOCAL0.INFO: Jun 28 15:35:59 10.0.0.3 %ASA-6-3...</td>\n",
       "      <td>a0601f0a46dc94c13db457c8f03d978dbd92c73f</td>\n",
       "      <td>1</td>\n",
       "    </tr>\n",
       "    <tr>\n",
       "      <th>5</th>\n",
       "      <td>6</td>\n",
       "      <td>0.0</td>\n",
       "      <td>10.1.80.32</td>\n",
       "      <td>10.4.15.15</td>\n",
       "      <td>Syslog</td>\n",
       "      <td>234</td>\n",
       "      <td>LOCAL0.INFO: Jun 28 15:35:59 10.0.0.3 %ASA-6-3...</td>\n",
       "      <td>4a423788099294922ed22757f17c6b6ddc90aa00</td>\n",
       "      <td>1</td>\n",
       "    </tr>\n",
       "    <tr>\n",
       "      <th>6</th>\n",
       "      <td>7</td>\n",
       "      <td>0.0</td>\n",
       "      <td>10.1.80.32</td>\n",
       "      <td>10.4.15.15</td>\n",
       "      <td>Syslog</td>\n",
       "      <td>235</td>\n",
       "      <td>LOCAL0.INFO: Jun 28 15:35:59 10.0.0.3 %ASA-6-3...</td>\n",
       "      <td>ddb6ccafd410e369aac244ce6901b079449e79b7</td>\n",
       "      <td>1</td>\n",
       "    </tr>\n",
       "    <tr>\n",
       "      <th>7</th>\n",
       "      <td>8</td>\n",
       "      <td>0.0</td>\n",
       "      <td>10.1.80.32</td>\n",
       "      <td>10.4.15.15</td>\n",
       "      <td>Syslog</td>\n",
       "      <td>226</td>\n",
       "      <td>LOCAL0.INFO: Jun 28 15:35:59 10.0.0.1 %ASA-6-3...</td>\n",
       "      <td>fe02d388d47278d7a99208e848b902beb02b3984</td>\n",
       "      <td>1</td>\n",
       "    </tr>\n",
       "    <tr>\n",
       "      <th>8</th>\n",
       "      <td>9</td>\n",
       "      <td>0.0</td>\n",
       "      <td>10.1.80.32</td>\n",
       "      <td>10.4.15.15</td>\n",
       "      <td>Syslog</td>\n",
       "      <td>213</td>\n",
       "      <td>LOCAL0.INFO: Jun 28 15:35:59 10.0.0.1 %ASA-6-3...</td>\n",
       "      <td>4e66681345562e2d19ba1cb6d006e65e0639165e</td>\n",
       "      <td>1</td>\n",
       "    </tr>\n",
       "    <tr>\n",
       "      <th>9</th>\n",
       "      <td>10</td>\n",
       "      <td>0.0</td>\n",
       "      <td>10.1.80.32</td>\n",
       "      <td>10.4.15.15</td>\n",
       "      <td>Syslog</td>\n",
       "      <td>241</td>\n",
       "      <td>LOCAL0.INFO: Jun 28 15:35:59 10.0.0.1 %ASA-6-3...</td>\n",
       "      <td>95b1e55034b76b1254fb05ea80125cad4300eba3</td>\n",
       "      <td>1</td>\n",
       "    </tr>\n",
       "  </tbody>\n",
       "</table>\n",
       "</div>"
      ],
      "text/plain": [
       "   No.  Time      Source Destination Protocol  Length  \\\n",
       "0    1   0.0  10.1.80.32  10.4.15.15   Syslog     244   \n",
       "1    2   0.0  10.1.80.32  10.4.15.15   Syslog     227   \n",
       "2    3   0.0  10.1.80.32  10.4.15.15   Syslog     234   \n",
       "3    4   0.0  10.1.80.32  10.4.15.15   Syslog     233   \n",
       "4    5   0.0  10.1.80.32  10.4.15.15   Syslog     233   \n",
       "5    6   0.0  10.1.80.32  10.4.15.15   Syslog     234   \n",
       "6    7   0.0  10.1.80.32  10.4.15.15   Syslog     235   \n",
       "7    8   0.0  10.1.80.32  10.4.15.15   Syslog     226   \n",
       "8    9   0.0  10.1.80.32  10.4.15.15   Syslog     213   \n",
       "9   10   0.0  10.1.80.32  10.4.15.15   Syslog     241   \n",
       "\n",
       "                                                Info  \\\n",
       "0  LOCAL0.INFO: Jun 28 15:36:00 10.1.80.254 %ASA-...   \n",
       "1  LOCAL0.INFO: Jun 28 15:36:00 10.1.80.254 %ASA-...   \n",
       "2  LOCAL0.INFO: Jun 28 15:35:59 10.0.0.1 %ASA-6-3...   \n",
       "3  LOCAL0.INFO: Jun 28 15:36:00 10.1.80.254 %ASA-...   \n",
       "4  LOCAL0.INFO: Jun 28 15:35:59 10.0.0.3 %ASA-6-3...   \n",
       "5  LOCAL0.INFO: Jun 28 15:35:59 10.0.0.3 %ASA-6-3...   \n",
       "6  LOCAL0.INFO: Jun 28 15:35:59 10.0.0.3 %ASA-6-3...   \n",
       "7  LOCAL0.INFO: Jun 28 15:35:59 10.0.0.1 %ASA-6-3...   \n",
       "8  LOCAL0.INFO: Jun 28 15:35:59 10.0.0.1 %ASA-6-3...   \n",
       "9  LOCAL0.INFO: Jun 28 15:35:59 10.0.0.1 %ASA-6-3...   \n",
       "\n",
       "                                        uid  received  \n",
       "0  323d24d285d97a330d95d984a35f04073dec3682         1  \n",
       "1  a98fb036b75708dce0174b5849595af584456d4e         1  \n",
       "2  347376e945af7a70e2e14913de0ce47ca24ae736         1  \n",
       "3  09bae3b8fb7847fc3e72bd9a3efb287764200c10         1  \n",
       "4  a0601f0a46dc94c13db457c8f03d978dbd92c73f         1  \n",
       "5  4a423788099294922ed22757f17c6b6ddc90aa00         1  \n",
       "6  ddb6ccafd410e369aac244ce6901b079449e79b7         1  \n",
       "7  fe02d388d47278d7a99208e848b902beb02b3984         1  \n",
       "8  4e66681345562e2d19ba1cb6d006e65e0639165e         1  \n",
       "9  95b1e55034b76b1254fb05ea80125cad4300eba3         1  "
      ]
     },
     "execution_count": 135,
     "metadata": {},
     "output_type": "execute_result"
    }
   ],
   "source": [
    "# Start by looking at first 50000 packets \n",
    "sent_df = delft_df.head(50000)\n",
    "sent_df['received'] = recvd_packets\n",
    "sent_df.head(10)"
   ]
  },
  {
   "cell_type": "code",
   "execution_count": 136,
   "metadata": {
    "scrolled": true
   },
   "outputs": [
    {
     "data": {
      "text/html": [
       "<div>\n",
       "<style scoped>\n",
       "    .dataframe tbody tr th:only-of-type {\n",
       "        vertical-align: middle;\n",
       "    }\n",
       "\n",
       "    .dataframe tbody tr th {\n",
       "        vertical-align: top;\n",
       "    }\n",
       "\n",
       "    .dataframe thead tr th {\n",
       "        text-align: left;\n",
       "    }\n",
       "\n",
       "    .dataframe thead tr:last-of-type th {\n",
       "        text-align: right;\n",
       "    }\n",
       "</style>\n",
       "<table border=\"1\" class=\"dataframe\">\n",
       "  <thead>\n",
       "    <tr>\n",
       "      <th></th>\n",
       "      <th colspan=\"2\" halign=\"left\">received</th>\n",
       "    </tr>\n",
       "    <tr>\n",
       "      <th></th>\n",
       "      <th>mean</th>\n",
       "      <th>count</th>\n",
       "    </tr>\n",
       "    <tr>\n",
       "      <th>Time</th>\n",
       "      <th></th>\n",
       "      <th></th>\n",
       "    </tr>\n",
       "  </thead>\n",
       "  <tbody>\n",
       "    <tr>\n",
       "      <th>0.000</th>\n",
       "      <td>1.000000</td>\n",
       "      <td>119</td>\n",
       "    </tr>\n",
       "    <tr>\n",
       "      <th>0.001</th>\n",
       "      <td>1.000000</td>\n",
       "      <td>119</td>\n",
       "    </tr>\n",
       "    <tr>\n",
       "      <th>0.002</th>\n",
       "      <td>1.000000</td>\n",
       "      <td>123</td>\n",
       "    </tr>\n",
       "    <tr>\n",
       "      <th>0.003</th>\n",
       "      <td>1.000000</td>\n",
       "      <td>123</td>\n",
       "    </tr>\n",
       "    <tr>\n",
       "      <th>0.004</th>\n",
       "      <td>1.000000</td>\n",
       "      <td>120</td>\n",
       "    </tr>\n",
       "    <tr>\n",
       "      <th>0.005</th>\n",
       "      <td>1.000000</td>\n",
       "      <td>99</td>\n",
       "    </tr>\n",
       "    <tr>\n",
       "      <th>0.006</th>\n",
       "      <td>1.000000</td>\n",
       "      <td>121</td>\n",
       "    </tr>\n",
       "    <tr>\n",
       "      <th>0.007</th>\n",
       "      <td>1.000000</td>\n",
       "      <td>115</td>\n",
       "    </tr>\n",
       "    <tr>\n",
       "      <th>0.008</th>\n",
       "      <td>0.550000</td>\n",
       "      <td>120</td>\n",
       "    </tr>\n",
       "    <tr>\n",
       "      <th>0.009</th>\n",
       "      <td>0.434426</td>\n",
       "      <td>122</td>\n",
       "    </tr>\n",
       "    <tr>\n",
       "      <th>0.010</th>\n",
       "      <td>0.388430</td>\n",
       "      <td>121</td>\n",
       "    </tr>\n",
       "    <tr>\n",
       "      <th>0.011</th>\n",
       "      <td>0.800000</td>\n",
       "      <td>110</td>\n",
       "    </tr>\n",
       "    <tr>\n",
       "      <th>0.012</th>\n",
       "      <td>0.813008</td>\n",
       "      <td>123</td>\n",
       "    </tr>\n",
       "    <tr>\n",
       "      <th>0.013</th>\n",
       "      <td>0.796748</td>\n",
       "      <td>123</td>\n",
       "    </tr>\n",
       "    <tr>\n",
       "      <th>0.014</th>\n",
       "      <td>0.439024</td>\n",
       "      <td>123</td>\n",
       "    </tr>\n",
       "  </tbody>\n",
       "</table>\n",
       "</div>"
      ],
      "text/plain": [
       "       received      \n",
       "           mean count\n",
       "Time                 \n",
       "0.000  1.000000   119\n",
       "0.001  1.000000   119\n",
       "0.002  1.000000   123\n",
       "0.003  1.000000   123\n",
       "0.004  1.000000   120\n",
       "0.005  1.000000    99\n",
       "0.006  1.000000   121\n",
       "0.007  1.000000   115\n",
       "0.008  0.550000   120\n",
       "0.009  0.434426   122\n",
       "0.010  0.388430   121\n",
       "0.011  0.800000   110\n",
       "0.012  0.813008   123\n",
       "0.013  0.796748   123\n",
       "0.014  0.439024   123"
      ]
     },
     "execution_count": 136,
     "metadata": {},
     "output_type": "execute_result"
    }
   ],
   "source": [
    "# Group by timestamp, calculate traffic and drop rate each millisecond.\n",
    "agg_df = sent_df[['Time','received']].groupby('Time').agg(['mean','count'])\n",
    "agg_df.head(15)"
   ]
  },
  {
   "cell_type": "markdown",
   "metadata": {},
   "source": [
    "Looks like the first few milliseconds saw no dropped packets, but packet loss did start occurring pretty quickly."
   ]
  },
  {
   "cell_type": "code",
   "execution_count": 137,
   "metadata": {
    "scrolled": false
   },
   "outputs": [
    {
     "data": {
      "text/html": [
       "<div>\n",
       "<style scoped>\n",
       "    .dataframe tbody tr th:only-of-type {\n",
       "        vertical-align: middle;\n",
       "    }\n",
       "\n",
       "    .dataframe tbody tr th {\n",
       "        vertical-align: top;\n",
       "    }\n",
       "\n",
       "    .dataframe thead th {\n",
       "        text-align: right;\n",
       "    }\n",
       "</style>\n",
       "<table border=\"1\" class=\"dataframe\">\n",
       "  <thead>\n",
       "    <tr style=\"text-align: right;\">\n",
       "      <th></th>\n",
       "      <th>Time</th>\n",
       "      <th>mean</th>\n",
       "      <th>count</th>\n",
       "    </tr>\n",
       "  </thead>\n",
       "  <tbody>\n",
       "    <tr>\n",
       "      <th>0</th>\n",
       "      <td>0.000</td>\n",
       "      <td>1.0</td>\n",
       "      <td>119</td>\n",
       "    </tr>\n",
       "    <tr>\n",
       "      <th>1</th>\n",
       "      <td>0.001</td>\n",
       "      <td>1.0</td>\n",
       "      <td>119</td>\n",
       "    </tr>\n",
       "    <tr>\n",
       "      <th>2</th>\n",
       "      <td>0.002</td>\n",
       "      <td>1.0</td>\n",
       "      <td>123</td>\n",
       "    </tr>\n",
       "    <tr>\n",
       "      <th>3</th>\n",
       "      <td>0.003</td>\n",
       "      <td>1.0</td>\n",
       "      <td>123</td>\n",
       "    </tr>\n",
       "    <tr>\n",
       "      <th>4</th>\n",
       "      <td>0.004</td>\n",
       "      <td>1.0</td>\n",
       "      <td>120</td>\n",
       "    </tr>\n",
       "  </tbody>\n",
       "</table>\n",
       "</div>"
      ],
      "text/plain": [
       "    Time  mean  count\n",
       "0  0.000   1.0    119\n",
       "1  0.001   1.0    119\n",
       "2  0.002   1.0    123\n",
       "3  0.003   1.0    123\n",
       "4  0.004   1.0    120"
      ]
     },
     "execution_count": 137,
     "metadata": {},
     "output_type": "execute_result"
    }
   ],
   "source": [
    "# Get ready to start plotting things.\n",
    "agg_df.columns = agg_df.columns.droplevel()\n",
    "agg_df = agg_df.reset_index()\n",
    "agg_df.head(5)"
   ]
  },
  {
   "cell_type": "code",
   "execution_count": 138,
   "metadata": {
    "scrolled": true
   },
   "outputs": [
    {
     "data": {
      "image/png": "[encoded data removed]",
      "text/plain": [
       "<matplotlib.figure.Figure at 0x7f47ecaf8a58>"
      ]
     },
     "metadata": {},
     "output_type": "display_data"
    }
   ],
   "source": [
    "# Histogram when packets are being sent.\n",
    "agg_df['Time'].hist(bins=1000)\n",
    "plt.show()"
   ]
  },
  {
   "cell_type": "markdown",
   "metadata": {},
   "source": [
    "It looks like packets are localized to particular timestamps. I suspect this means that delft is building a list of packets in a buffer and then sending everything in the buffer each second. Let's take a closer look at the spikes."
   ]
  },
  {
   "cell_type": "code",
   "execution_count": 139,
   "metadata": {
    "collapsed": true,
    "scrolled": true
   },
   "outputs": [],
   "source": [
    "# Rename columns so that they make more sense on a plot\n",
    "agg_df.rename(index=str, \n",
    "              columns={'mean':'received rate',\n",
    "                                  'count':'packets sent'},\n",
    "              inplace=True)"
   ]
  },
  {
   "cell_type": "code",
   "execution_count": 140,
   "metadata": {
    "scrolled": false
   },
   "outputs": [
    {
     "data": {
      "image/png": "[encoded data removed]",
      "text/plain": [
       "<matplotlib.figure.Figure at 0x7f4806c8fe10>"
      ]
     },
     "metadata": {},
     "output_type": "display_data"
    },
    {
     "data": {
      "image/png": "[encoded data removed]",
      "text/plain": [
       "<matplotlib.figure.Figure at 0x7f47ec61aa90>"
      ]
     },
     "metadata": {},
     "output_type": "display_data"
    },
    {
     "data": {
      "image/png": "[encoded data removed]",
      "text/plain": [
       "<matplotlib.figure.Figure at 0x7f48066ca630>"
      ]
     },
     "metadata": {},
     "output_type": "display_data"
    },
    {
     "data": {
      "image/png": "[encoded data removed]",
      "text/plain": [
       "<matplotlib.figure.Figure at 0x7f4806641a90>"
      ]
     },
     "metadata": {},
     "output_type": "display_data"
    },
    {
     "data": {
      "image/png": "[encoded data removed]",
      "text/plain": [
       "<matplotlib.figure.Figure at 0x7f480663c9b0>"
      ]
     },
     "metadata": {},
     "output_type": "display_data"
    },
    {
     "data": {
      "image/png": "[encoded data removed]",
      "text/plain": [
       "<matplotlib.figure.Figure at 0x7f47ecc66710>"
      ]
     },
     "metadata": {},
     "output_type": "display_data"
    },
    {
     "data": {
      "image/png": "[encoded data removed]",
      "text/plain": [
       "<matplotlib.figure.Figure at 0x7f480667c7b8>"
      ]
     },
     "metadata": {},
     "output_type": "display_data"
    },
    {
     "data": {
      "image/png": "[encoded data removed]",
      "text/plain": [
       "<matplotlib.figure.Figure at 0x7f47eca76c50>"
      ]
     },
     "metadata": {},
     "output_type": "display_data"
    }
   ],
   "source": [
    "# Create a plot for each of the bursts in this data subset\n",
    "for i in range(8):\n",
    "    fig, ax = plt.subplots()\n",
    "    ax = sns.regplot('Time', 'received rate', agg_df, fit_reg=False)\n",
    "    ax2 = ax.twinx()\n",
    "    sns.regplot('Time', 'packets sent', agg_df, fit_reg=False, ax=ax2, color='red')\n",
    "    ax.set(xlim=(i-0.01,i+0.1))\n",
    "    plt.show()"
   ]
  },
  {
   "cell_type": "markdown",
   "metadata": {},
   "source": [
    "These plots all show very similar behavior with respect to the number of packets being sent and the packet drop rate. It looks like the packets are consistently being sent at a rate of about 120 packets per millisecond. At the beginning of each burst, all of those packets are being received, but after 10 milliseconds or so, packets start being lost.\n",
    "\n",
    "## Analysis and Conclusions\n",
    "\n",
    "This exploration has provided us with valuable information. We know that data packets are being buffered and sent in batches every second, at a consistent rate. We know that the first packets sent from each buffer are received, at least for a short time, but the length of that time varies. After that, about half of the packets are lost. We also know that this behavior is very consistent, at least over the few seconds of this dataset.\n",
    "\n",
    "What this indicates to me is that whatever process is receiving the data packets on the proxy server is unable to handle the volume of data packets being sent. The first few packets are received without issue, but this process is quickly overloaded, causing the observed packet loss. Our next step is to investigate the process that should be receiving the packets."
   ]
  }
 ],
 "metadata": {
  "kernelspec": {
   "display_name": "Python 3",
   "language": "python",
   "name": "python3"
  },
  "language_info": {
   "codemirror_mode": {
    "name": "ipython",
    "version": 3
   },
   "file_extension": ".py",
   "mimetype": "text/x-python",
   "name": "python",
   "nbconvert_exporter": "python",
   "pygments_lexer": "ipython3",
   "version": "3.6.3"
  }
 },
 "nbformat": 4,
 "nbformat_minor": 2
}
