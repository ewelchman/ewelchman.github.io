{
 "cells": [
  {
   "cell_type": "markdown",
   "metadata": {},
   "source": [
    "Use the etree library to assist with xml parsing"
   ]
  },
  {
   "cell_type": "code",
   "execution_count": 1,
   "metadata": {
    "collapsed": true
   },
   "outputs": [],
   "source": [
    "# import the package\n",
    "from lxml import etree"
   ]
  },
  {
   "cell_type": "code",
   "execution_count": 2,
   "metadata": {
    "collapsed": true
   },
   "outputs": [],
   "source": [
    "# Define some xml code as plain text\n",
    "text = \"\"\"\n",
    "<Infringement xmlns=\"http://www.acns.net/ACNS\" xmlns:xsi=\"http://www.w3.org/2001/XMLSchema-instance\" xsi:schemaLocation=\"http://www.acns.net/ACNS http://www.acns.net/v1.2/ACNS2v1_2.xsd\">\n",
    "  <Case>\n",
    "    <ID>e50456adea23e3d4f4a8</ID>\n",
    "    <Status>Open</Status>\n",
    "    <Severity>Normal</Severity>\n",
    "  </Case>\n",
    "  <Complainant>\n",
    "    <Entity>Home Box Office, Inc.</Entity>\n",
    "    <Contact>Vobile - Compliance</Contact>\n",
    "    <Address>2880 Lakeside Drive, Suite 360\n",
    "Santa Clara, CA 95054</Address>\n",
    "    <Phone>+1 (408) 492 1100</Phone>\n",
    "    <Email>notice@hbo.copyright-notice.com</Email>\n",
    "  </Complainant>\n",
    "  <Service_Provider>\n",
    "    <Entity>North Carolina Research and Education Network</Entity>\n",
    "    <Email>abuse@wfu.edu</Email>\n",
    "  </Service_Provider>\n",
    "  <Source>\n",
    "    <TimeStamp>2019-03-23T15:20:07Z</TimeStamp>\n",
    "    <IP_Address>152.17.143.119</IP_Address>\n",
    "    <Port>61356</Port>\n",
    "    <Type>BitTorrent</Type>\n",
    "    <SubType BaseType=\"P2P\" Protocol=\"BITTORRENT\"/>\n",
    "    <Number_Files>1</Number_Files>\n",
    "  </Source>\n",
    "  <Content>\n",
    "    <Item>\n",
    "      <TimeStamp>2019-03-23T15:20:07Z</TimeStamp>\n",
    "      <Title>Game of Thrones</Title>\n",
    "      <FileName>Game.of.Thrones.S02.720p.BluRay.x264.ShAaNiG</FileName>\n",
    "      <FileSize>4768442317</FileSize>\n",
    "      <Hash Type=\"SHA1\">6698e0950dcd257a6b03af2e8b068b7ff9d4619d</Hash>\n",
    "    </Item>\n",
    "  </Content>\n",
    "</Infringement>\"\"\""
   ]
  },
  {
   "cell_type": "code",
   "execution_count": 3,
   "metadata": {
    "collapsed": true
   },
   "outputs": [],
   "source": [
    "# Instantiate an etree object from the plain text\n",
    "root = etree.XML(text)"
   ]
  },
  {
   "cell_type": "code",
   "execution_count": 4,
   "metadata": {},
   "outputs": [],
   "source": [
    "def search_elements(tree):\n",
    "    \"\"\"Function to recursively grab elements from an xml tree object.\n",
    "    \n",
    "    Returns a dictionary of elements indexed by tag.\n",
    "    Individual elements contain either plain text or additional attributes.\"\"\"\n",
    "    \n",
    "    def get_children(tree):\n",
    "        children = [child for child in tree]\n",
    "        for child in children:\n",
    "            tag = child.tag.split('}')[-1]   # split out meta information\n",
    "            elements[tag] = {'text':child.text,\n",
    "                             'attrib':child.attrib}\n",
    "            get_children(child)\n",
    "\n",
    "\n",
    "    elements = {}\n",
    "    get_children(root)\n",
    "    \n",
    "    return elements"
   ]
  },
  {
   "cell_type": "code",
   "execution_count": 5,
   "metadata": {},
   "outputs": [
    {
     "data": {
      "text/plain": [
       "{'Address': {'attrib': {},\n",
       "  'text': '2880 Lakeside Drive, Suite 360\\nSanta Clara, CA 95054'},\n",
       " 'Case': {'attrib': {}, 'text': '\\n    '},\n",
       " 'Complainant': {'attrib': {}, 'text': '\\n    '},\n",
       " 'Contact': {'attrib': {}, 'text': 'Vobile - Compliance'},\n",
       " 'Content': {'attrib': {}, 'text': '\\n    '},\n",
       " 'Email': {'attrib': {}, 'text': 'abuse@wfu.edu'},\n",
       " 'Entity': {'attrib': {},\n",
       "  'text': 'North Carolina Research and Education Network'},\n",
       " 'FileName': {'attrib': {},\n",
       "  'text': 'Game.of.Thrones.S02.720p.BluRay.x264.ShAaNiG'},\n",
       " 'FileSize': {'attrib': {}, 'text': '4768442317'},\n",
       " 'Hash': {'attrib': {'Type': 'SHA1'},\n",
       "  'text': '6698e0950dcd257a6b03af2e8b068b7ff9d4619d'},\n",
       " 'ID': {'attrib': {}, 'text': 'e50456adea23e3d4f4a8'},\n",
       " 'IP_Address': {'attrib': {}, 'text': '152.17.143.119'},\n",
       " 'Item': {'attrib': {}, 'text': '\\n      '},\n",
       " 'Number_Files': {'attrib': {}, 'text': '1'},\n",
       " 'Phone': {'attrib': {}, 'text': '+1 (408) 492 1100'},\n",
       " 'Port': {'attrib': {}, 'text': '61356'},\n",
       " 'Service_Provider': {'attrib': {}, 'text': '\\n    '},\n",
       " 'Severity': {'attrib': {}, 'text': 'Normal'},\n",
       " 'Source': {'attrib': {}, 'text': '\\n    '},\n",
       " 'Status': {'attrib': {}, 'text': 'Open'},\n",
       " 'SubType': {'attrib': {'BaseType': 'P2P', 'Protocol': 'BITTORRENT'},\n",
       "  'text': None},\n",
       " 'TimeStamp': {'attrib': {}, 'text': '2019-03-23T15:20:07Z'},\n",
       " 'Title': {'attrib': {}, 'text': 'Game of Thrones'},\n",
       " 'Type': {'attrib': {}, 'text': 'BitTorrent'}}"
      ]
     },
     "execution_count": 5,
     "metadata": {},
     "output_type": "execute_result"
    }
   ],
   "source": [
    "# Run the function on our sample xml data\n",
    "elements = search_elements(root)\n",
    "elements"
   ]
  },
  {
   "cell_type": "code",
   "execution_count": 6,
   "metadata": {},
   "outputs": [
    {
     "data": {
      "text/plain": [
       "'61356'"
      ]
     },
     "execution_count": 6,
     "metadata": {},
     "output_type": "execute_result"
    }
   ],
   "source": [
    "# Extract one piece of useful information.\n",
    "elements['Port']['text']"
   ]
  }
 ],
 "metadata": {
  "kernelspec": {
   "display_name": "Python 3",
   "language": "python",
   "name": "python3"
  },
  "language_info": {
   "codemirror_mode": {
    "name": "ipython",
    "version": 3
   },
   "file_extension": ".py",
   "mimetype": "text/x-python",
   "name": "python",
   "nbconvert_exporter": "python",
   "pygments_lexer": "ipython3",
   "version": "3.6.8"
  }
 },
 "nbformat": 4,
 "nbformat_minor": 2
}
